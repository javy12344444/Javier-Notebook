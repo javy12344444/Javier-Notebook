{
  "metadata": {
    "kernelspec": {
      "name": "python",
      "display_name": "Python (Pyodide)",
      "language": "python"
    },
    "language_info": {
      "codemirror_mode": {
        "name": "python",
        "version": 3
      },
      "file_extension": ".py",
      "mimetype": "text/x-python",
      "name": "python",
      "nbconvert_exporter": "python",
      "pygments_lexer": "ipython3",
      "version": "3.8"
    }
  },
  "nbformat_minor": 4,
  "nbformat": 4,
  "cells": [
    {
      "cell_type": "markdown",
      "source": "#                                     Data Science Tools and Ecosystem",
      "metadata": {}
    },
    {
      "cell_type": "markdown",
      "source": "## In this notebook, Data Science Tools and Ecosystem are summarized.",
      "metadata": {}
    },
    {
      "cell_type": "markdown",
      "source": "**Objectives:**\n##### - Add de comments de code cells\n##### - Cretae Markdomn cells\n##### - Format content of Markdown cells with heading styles\n##### - List popular languages forData Science\n##### - Libraries used by Data Scientists",
      "metadata": {}
    },
    {
      "cell_type": "markdown",
      "source": "Some of the popular languages that Data Scientists use are:",
      "metadata": {}
    },
    {
      "cell_type": "markdown",
      "source": "\n##### 1.Python\n##### 2.R\n##### 3.SQL\n##### 4.Scala\n##### 5.Java\n##### 6.C+\n##### 7.Julia\n##### 8.Javascript\n##### 9.Php",
      "metadata": {}
    },
    {
      "cell_type": "markdown",
      "source": "Some of the commonly used libraries used by Data Scientists:",
      "metadata": {}
    },
    {
      "cell_type": "markdown",
      "source": "#### 1.Pandas\n#### 2.Numpy\n#### 3.Matplotlib\n#### 4.Seaborn\n#### 5.TensorFlow\n#### 6.PyTorch\n#### 7.Keras\n#### 8.Vegas\n#### 9.Apache Spark",
      "metadata": {}
    },
    {
      "cell_type": "markdown",
      "source": "### | DataScience Tools |\n#### --------------------------\n#### | Anaconda               \n#### | Jupyter Notebooks      \n#### | R. Studio              \n#### | Spyder                 \n#### | Zeppelin               ",
      "metadata": {}
    },
    {
      "cell_type": "markdown",
      "source": "### Below are a few examples of evaluating arithmetic expressions in Python\n",
      "metadata": {}
    },
    {
      "cell_type": "code",
      "source": "# This a simplearithmetic expression to mutiply then add integers\n(3*4)+5",
      "metadata": {
        "trusted": true
      },
      "outputs": [
        {
          "execution_count": 16,
          "output_type": "execute_result",
          "data": {
            "text/plain": "17"
          },
          "metadata": {}
        }
      ],
      "execution_count": 16
    },
    {
      "cell_type": "code",
      "source": "# This willconvert 200 minutes to hours by diving by 60\n200 / 60",
      "metadata": {
        "trusted": true
      },
      "outputs": [
        {
          "execution_count": 17,
          "output_type": "execute_result",
          "data": {
            "text/plain": "3.3333333333333335"
          },
          "metadata": {}
        }
      ],
      "execution_count": 17
    },
    {
      "cell_type": "markdown",
      "source": "## Autor\n### Javier Marin",
      "metadata": {}
    },
    {
      "cell_type": "code",
      "source": "",
      "metadata": {
        "trusted": true
      },
      "outputs": [],
      "execution_count": null
    }
  ]
}